{
 "cells": [
  {
   "cell_type": "code",
   "execution_count": 1,
   "metadata": {},
   "outputs": [],
   "source": [
    "import torch\n",
    "import torch.nn as nn ##neural network\n",
    "from torch import optim #optimizers\n",
    "import torch.nn.functional as F\n",
    "import csv\n",
    "import random\n",
    "import re\n",
    "import os\n",
    "import unicodedata\n",
    "import codecs\n",
    "import itertools"
   ]
  },
  {
   "cell_type": "code",
   "execution_count": 3,
   "metadata": {},
   "outputs": [],
   "source": [
    "USE_CUDA = torch.cuda.is_available()\n",
    "device = torch.device(\"cuda\" if USE_CUDA else \"cpu\") # if true  GPU will be used instead of CPU"
   ]
  },
  {
   "cell_type": "code",
   "execution_count": 36,
   "metadata": {},
   "outputs": [],
   "source": [
    "# creating path for files\n",
    "lines_filePath = os.path.join(\"dataset\",\"movie_lines.txt\")\n",
    "conv_filePath = os.path.join(\"dataset\", \"movie_conversations.txt\")"
   ]
  },
  {
   "cell_type": "code",
   "execution_count": 26,
   "metadata": {},
   "outputs": [
    {
     "name": "stdout",
     "output_type": "stream",
     "text": [
      "b'L1045 +++$+++ u0 +++$+++ m0 +++$+++ BIANCA +++$+++ They do not!'\n",
      "b'L1044 +++$+++ u2 +++$+++ m0 +++$+++ CAMERON +++$+++ They do to!'\n",
      "b'L985 +++$+++ u0 +++$+++ m0 +++$+++ BIANCA +++$+++ I hope so.'\n",
      "b'L984 +++$+++ u2 +++$+++ m0 +++$+++ CAMERON +++$+++ She okay?'\n",
      "b\"L925 +++$+++ u0 +++$+++ m0 +++$+++ BIANCA +++$+++ Let's go.\"\n",
      "b'L924 +++$+++ u2 +++$+++ m0 +++$+++ CAMERON +++$+++ Wow'\n",
      "b\"L872 +++$+++ u0 +++$+++ m0 +++$+++ BIANCA +++$+++ Okay -- you're gonna need to learn how to lie.\"\n",
      "b'L871 +++$+++ u2 +++$+++ m0 +++$+++ CAMERON +++$+++ No'\n",
      "b\"u0 +++$+++ u2 +++$+++ m0 +++$+++ ['L194', 'L195', 'L196', 'L197']\"\n",
      "b\"u0 +++$+++ u2 +++$+++ m0 +++$+++ ['L198', 'L199']\"\n",
      "b\"u0 +++$+++ u2 +++$+++ m0 +++$+++ ['L200', 'L201', 'L202', 'L203']\"\n",
      "b\"u0 +++$+++ u2 +++$+++ m0 +++$+++ ['L204', 'L205', 'L206']\"\n",
      "b\"u0 +++$+++ u2 +++$+++ m0 +++$+++ ['L207', 'L208']\"\n",
      "b\"u0 +++$+++ u2 +++$+++ m0 +++$+++ ['L271', 'L272', 'L273', 'L274', 'L275']\"\n",
      "b\"u0 +++$+++ u2 +++$+++ m0 +++$+++ ['L276', 'L277']\"\n",
      "b\"u0 +++$+++ u2 +++$+++ m0 +++$+++ ['L280', 'L281']\"\n"
     ]
    }
   ],
   "source": [
    "#print some lines\n",
    "\n",
    "def printLines(file):\n",
    "    with open(file,'rb') as file:\n",
    "        lines=file.readlines()\n",
    "    for line in lines[:8]: # we are only print 0-7 lines just to visulaise the data\n",
    "        print(line.strip())\n",
    "        \n",
    "printLines(lines_filePath)\n",
    "printLines(conv_filePath)"
   ]
  },
  {
   "cell_type": "code",
   "execution_count": 32,
   "metadata": {},
   "outputs": [],
   "source": [
    "# Splits each line of the file into a dictionary of fields\n",
    "def loadLines(file):\n",
    "    line_fields = [\"lineId\", \"characterId\", \"movieId\",\"character\",\"text\"]\n",
    "    lines={}\n",
    "    #if encoding is not done then below spliting will throw error\n",
    "    with open(file,'r', encoding='iso-8859-1') as f: \n",
    "        for line in f:\n",
    "            values = line.split(\" +++$+++ \")\n",
    "            # Extract fields\n",
    "            lineObj = {}\n",
    "            for i, field in enumerate(line_fields): # enumerate will iterate bubt also keep track of index( i is index here, and filed will be data at that index)\n",
    "                    lineObj[field] = values[i]\n",
    "            lines[lineObj['lineId']] = lineObj\n",
    "    return lines \n",
    "\n",
    "lines=loadLines(lines_filePath)\n"
   ]
  },
  {
   "cell_type": "code",
   "execution_count": 45,
   "metadata": {},
   "outputs": [],
   "source": [
    "# now processing conversation file ehich will tell who is speaking to whom\n",
    "\n",
    "def loadConv(file):\n",
    "    conv_filed=[\"charachterId\", \"character2Id\",\"movieId\",\"utteranceIds\"]\n",
    "    conversations = []\n",
    "    with open(file, 'r', encoding='iso-8859-1') as f:\n",
    "        for line in f:\n",
    "            values = line.split(\" +++$+++ \")\n",
    "            convObj = {}\n",
    "            for i, field in enumerate(conv_filed):\n",
    "                    convObj[field] = values[i]\n",
    "        \n",
    "            # Convert string to list as utterance is list stored as string e.g \"['L598485', 'L598486', ...]\")\n",
    "        \n",
    "            lineIds = eval(convObj[\"utteranceIds\"])\n",
    "            \n",
    "            convObj[\"lines\"]=[]\n",
    "            for lineId in lineIds:\n",
    "                convObj[\"lines\"].append(lines[lineId])\n",
    "            conversations.append(convObj)\n",
    "            \n",
    "    return conversations\n",
    "\n",
    "conversations = loadConv(conv_filePath)"
   ]
  },
  {
   "cell_type": "code",
   "execution_count": 46,
   "metadata": {},
   "outputs": [
    {
     "data": {
      "text/plain": [
       "{'charachterId': 'u0',\n",
       " 'character2Id': 'u2',\n",
       " 'movieId': 'm0',\n",
       " 'utteranceIds': \"['L194', 'L195', 'L196', 'L197']\\n\",\n",
       " 'lines': [{'lineId': 'L194',\n",
       "   'characterId': 'u0',\n",
       "   'movieId': 'm0',\n",
       "   'character': 'BIANCA',\n",
       "   'text': 'Can we make this quick?  Roxanne Korrine and Andrew Barrett are having an incredibly horrendous public break- up on the quad.  Again.\\n'},\n",
       "  {'lineId': 'L195',\n",
       "   'characterId': 'u2',\n",
       "   'movieId': 'm0',\n",
       "   'character': 'CAMERON',\n",
       "   'text': \"Well, I thought we'd start with pronunciation, if that's okay with you.\\n\"},\n",
       "  {'lineId': 'L196',\n",
       "   'characterId': 'u0',\n",
       "   'movieId': 'm0',\n",
       "   'character': 'BIANCA',\n",
       "   'text': 'Not the hacking and gagging and spitting part.  Please.\\n'},\n",
       "  {'lineId': 'L197',\n",
       "   'characterId': 'u2',\n",
       "   'movieId': 'm0',\n",
       "   'character': 'CAMERON',\n",
       "   'text': \"Okay... then how 'bout we try out some French cuisine.  Saturday?  Night?\\n\"}]}"
      ]
     },
     "execution_count": 46,
     "metadata": {},
     "output_type": "execute_result"
    }
   ],
   "source": [
    "conversations[0]"
   ]
  },
  {
   "cell_type": "code",
   "execution_count": null,
   "metadata": {
    "collapsed": true
   },
   "outputs": [],
   "source": []
  }
 ],
 "metadata": {
  "kernelspec": {
   "display_name": "Python 3",
   "language": "python",
   "name": "python3"
  },
  "language_info": {
   "codemirror_mode": {
    "name": "ipython",
    "version": 3
   },
   "file_extension": ".py",
   "mimetype": "text/x-python",
   "name": "python",
   "nbconvert_exporter": "python",
   "pygments_lexer": "ipython3",
   "version": "3.6.9"
  }
 },
 "nbformat": 4,
 "nbformat_minor": 2
}
